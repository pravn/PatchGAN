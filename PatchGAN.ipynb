{
 "cells": [
  {
   "cell_type": "code",
   "execution_count": 54,
   "metadata": {
    "collapsed": true
   },
   "outputs": [],
   "source": [
    "import torch \n",
    "import torch.nn as nn"
   ]
  },
  {
   "cell_type": "code",
   "execution_count": 55,
   "metadata": {},
   "outputs": [],
   "source": [
    "class PatchGAN(nn.Module):\n",
    "    def __init__(self):\n",
    "        super(PatchGAN, self).__init__()\n",
    "        self.conv1 = nn.Conv2d(1,1,4,2,1) #32->16\n",
    "        self.conv2 = nn.Conv2d(1,1,4,2,1) #16->8\n",
    "        self.conv3 = nn.Conv2d(1,1,4,2,1) #8->4\n",
    "        self.conv4 = nn.Conv2d(1,1,4,1,0) #4->1\n",
    "        \n",
    "    def forward(self,x):\n",
    "        print('0', x.size())\n",
    "        x = self.conv1(x)\n",
    "        print('1', x.size())\n",
    "        x = self.conv2(x)\n",
    "        print('2', x.size())\n",
    "        x = self.conv3(x)\n",
    "        print('3', x.size())\n",
    "        x = self.conv4(x)\n",
    "        print('4', x.size())\n",
    "        return x\n",
    "         "
   ]
  },
  {
   "cell_type": "code",
   "execution_count": 56,
   "metadata": {
    "collapsed": true
   },
   "outputs": [],
   "source": [
    "patchgan = PatchGAN()"
   ]
  },
  {
   "cell_type": "code",
   "execution_count": 57,
   "metadata": {},
   "outputs": [
    {
     "name": "stdout",
     "output_type": "stream",
     "text": [
      "PatchGAN(\n",
      "  (conv1): Conv2d(1, 1, kernel_size=(4, 4), stride=(2, 2), padding=(1, 1))\n",
      "  (conv2): Conv2d(1, 1, kernel_size=(4, 4), stride=(2, 2), padding=(1, 1))\n",
      "  (conv3): Conv2d(1, 1, kernel_size=(4, 4), stride=(2, 2), padding=(1, 1))\n",
      "  (conv4): Conv2d(1, 1, kernel_size=(4, 4), stride=(1, 1))\n",
      ")\n"
     ]
    }
   ],
   "source": [
    "print(patchgan)"
   ]
  },
  {
   "cell_type": "code",
   "execution_count": 58,
   "metadata": {
    "collapsed": true
   },
   "outputs": [],
   "source": [
    "x = torch.FloatTensor(10,1,64,64).normal_(0,1)"
   ]
  },
  {
   "cell_type": "code",
   "execution_count": 59,
   "metadata": {},
   "outputs": [
    {
     "name": "stdout",
     "output_type": "stream",
     "text": [
      "0 torch.Size([10, 1, 64, 64])\n",
      "1 torch.Size([10, 1, 32, 32])\n",
      "2 torch.Size([10, 1, 16, 16])\n",
      "3 torch.Size([10, 1, 8, 8])\n",
      "4 torch.Size([10, 1, 5, 5])\n"
     ]
    }
   ],
   "source": [
    "y = patchgan(x)"
   ]
  },
  {
   "cell_type": "code",
   "execution_count": 60,
   "metadata": {},
   "outputs": [
    {
     "name": "stdout",
     "output_type": "stream",
     "text": [
      "torch.Size([10, 1, 64, 64])\n"
     ]
    }
   ],
   "source": [
    "print(x.size())"
   ]
  },
  {
   "cell_type": "code",
   "execution_count": 61,
   "metadata": {},
   "outputs": [
    {
     "name": "stdout",
     "output_type": "stream",
     "text": [
      "torch.Size([10, 1, 5, 5])\n"
     ]
    }
   ],
   "source": [
    "print(y.size())"
   ]
  },
  {
   "cell_type": "code",
   "execution_count": null,
   "metadata": {
    "collapsed": true
   },
   "outputs": [],
   "source": []
  }
 ],
 "metadata": {
  "kernelspec": {
   "display_name": "Python 3",
   "language": "python",
   "name": "python3"
  },
  "language_info": {
   "codemirror_mode": {
    "name": "ipython",
    "version": 3
   },
   "file_extension": ".py",
   "mimetype": "text/x-python",
   "name": "python",
   "nbconvert_exporter": "python",
   "pygments_lexer": "ipython3",
   "version": "3.6.5"
  }
 },
 "nbformat": 4,
 "nbformat_minor": 2
}
